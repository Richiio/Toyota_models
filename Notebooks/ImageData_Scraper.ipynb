{
  "nbformat": 4,
  "nbformat_minor": 0,
  "metadata": {
    "colab": {
      "name": "ImageData_Scraper.ipynb",
      "provenance": [],
      "collapsed_sections": [],
      "toc_visible": true,
      "mount_file_id": "1FD1wEICznH0mOn359wck8EV2lTmvoYsO",
      "authorship_tag": "ABX9TyMrGwCf9GZmlebmSyJesyfL",
      "include_colab_link": true
    },
    "kernelspec": {
      "display_name": "Python 3",
      "name": "python3"
    },
    "language_info": {
      "name": "python"
    }
  },
  "cells": [
    {
      "cell_type": "markdown",
      "metadata": {
        "id": "view-in-github",
        "colab_type": "text"
      },
      "source": [
        "<a href=\"https://colab.research.google.com/github/Fortune-Adekogbe/Toyota-Models-Classification/blob/main/Notebooks/ImageData_Scraper.ipynb\" target=\"_parent\"><img src=\"https://colab.research.google.com/assets/colab-badge.svg\" alt=\"Open In Colab\"/></a>"
      ]
    },
    {
      "cell_type": "code",
      "metadata": {
        "id": "GD0TE2R4elbN"
      },
      "source": [
        "import joblib\n",
        "import requests\n",
        "import os"
      ],
      "execution_count": 1,
      "outputs": []
    },
    {
      "cell_type": "code",
      "metadata": {
        "colab": {
          "base_uri": "https://localhost:8080/"
        },
        "id": "CExuK3nIDDwm",
        "outputId": "b92c5661-d45c-4cab-dafe-e57806ef0ab2"
      },
      "source": [
        "%cd /content/drive/MyDrive/Colab_Data/curacel/"
      ],
      "execution_count": 2,
      "outputs": [
        {
          "output_type": "stream",
          "text": [
            "/content/drive/MyDrive/Colab_Data/curacel\n"
          ],
          "name": "stdout"
        }
      ]
    },
    {
      "cell_type": "markdown",
      "metadata": {
        "id": "NawiNhYbCrUh"
      },
      "source": [
        "## Testing the Scraper"
      ]
    },
    {
      "cell_type": "code",
      "metadata": {
        "colab": {
          "base_uri": "https://localhost:8080/"
        },
        "id": "n57jtxWkBT5K",
        "outputId": "f670e601-cc27-4bef-8ed2-92b6f4cfa45f"
      },
      "source": [
        "from bs4 import BeautifulSoup\n",
        "import requests\n",
        "\n",
        "link = 'https://www.auctionexport.com/en/Inventory/Search_Results?PerPage=15&IsManual=True&vehicleType=2&MakeModel%5B0%5D.autoMake=TOYOTA&MakeModel%5B0%5D.autoModel=&price_from=0&price_to=0&autoYear_from=1901&autoYear_to=2023'\n",
        "content = requests.get(link).text\n",
        "links = []\n",
        "\n",
        "soup = BeautifulSoup(content, 'lxml')\n",
        "for item in soup.find_all('div', {\"class\":\"sv-title-container\"}):\n",
        "\tlinks.append(item.find('a')['href'])\n",
        "\n",
        "print(len(links))"
      ],
      "execution_count": 24,
      "outputs": [
        {
          "output_type": "stream",
          "text": [
            "15\n"
          ],
          "name": "stdout"
        }
      ]
    },
    {
      "cell_type": "markdown",
      "metadata": {
        "id": "WrxJqnJ-C3Sk"
      },
      "source": [
        "## Collecting informatiin and Scraping"
      ]
    },
    {
      "cell_type": "code",
      "metadata": {
        "id": "N6NHLws7LjBV"
      },
      "source": [
        "d = '''4RUNNER\n",
        "609\n",
        "86\n",
        "14\n",
        "AVALON\n",
        "442\n",
        "CAMRY\n",
        "4235\n",
        "CAMRY SOLARA\n",
        "3\n",
        "CELICA GT\n",
        "34\n",
        "CELICA ST\n",
        "1\n",
        "C-HR\n",
        "42\n",
        "COROLLA\n",
        "3485\n",
        "ECHO\n",
        "37\n",
        "EXTRA LONG\n",
        "4\n",
        "FJ CRUISER\n",
        "51\n",
        "HIGHLANDER\n",
        "1011\n",
        "LAND CRUISER\n",
        "32\n",
        "MATRIX\n",
        "70\n",
        "MIRAI\n",
        "2\n",
        "MR2\n",
        "5\n",
        "PICKUP\n",
        "46\n",
        "PREVIA\n",
        "9\n",
        "PRIUS\n",
        "1242\n",
        "RAV4\n",
        "1480\n",
        "SCION\n",
        "378\n",
        "SEQUOIA\n",
        "173\n",
        "SHORT BED\n",
        "5\n",
        "SIENNA\n",
        "830\n",
        "SUPRA\n",
        "9\n",
        "T100\n",
        "15\n",
        "TACOMA\n",
        "983\n",
        "TERCEL\n",
        "4\n",
        "TUNDRA\n",
        "570\n",
        "VAN CARGO\n",
        "2\n",
        "VENZA\n",
        "103\n",
        "XTRACAB\n",
        "1\n",
        "YARIS\n",
        "254\n",
        "'''\n",
        "key = []\n",
        "value = []\n",
        "for i,j in enumerate(d.split(\"\\n\")):\n",
        "  if i%2==0:\n",
        "    key.append(j.replace(' ','+'))\n",
        "  else:\n",
        "    value.append(int(j))"
      ],
      "execution_count": 34,
      "outputs": []
    },
    {
      "cell_type": "code",
      "metadata": {
        "id": "-CkTjAg4Vz1l"
      },
      "source": [
        "models = dict(zip(key, value))"
      ],
      "execution_count": 36,
      "outputs": []
    },
    {
      "cell_type": "code",
      "metadata": {
        "id": "MpXW7o1mPrPP",
        "colab": {
          "base_uri": "https://localhost:8080/"
        },
        "outputId": "3eca01e7-7ec7-4d2d-90f6-c810bea4de14"
      },
      "source": [
        "models"
      ],
      "execution_count": 37,
      "outputs": [
        {
          "output_type": "execute_result",
          "data": {
            "text/plain": [
              "{'4RUNNER': 609,\n",
              " '86': 14,\n",
              " 'AVALON': 442,\n",
              " 'C-HR': 42,\n",
              " 'CAMRY': 4235,\n",
              " 'CAMRY-SOLARA': 3,\n",
              " 'CELICA-GT': 34,\n",
              " 'CELICA-ST': 1,\n",
              " 'COROLLA': 3485,\n",
              " 'ECHO': 37,\n",
              " 'EXTRA-LONG': 4,\n",
              " 'FJ-CRUISER': 51,\n",
              " 'HIGHLANDER': 1011,\n",
              " 'LAND-CRUISER': 32,\n",
              " 'MATRIX': 70,\n",
              " 'MIRAI': 2,\n",
              " 'MR2': 5,\n",
              " 'PICKUP': 46,\n",
              " 'PREVIA': 9,\n",
              " 'PRIUS': 1242,\n",
              " 'RAV4': 1480,\n",
              " 'SCION': 378,\n",
              " 'SEQUOIA': 173,\n",
              " 'SHORT-BED': 5,\n",
              " 'SIENNA': 830,\n",
              " 'SUPRA': 9,\n",
              " 'T100': 15,\n",
              " 'TACOMA': 983,\n",
              " 'TERCEL': 4,\n",
              " 'TUNDRA': 570,\n",
              " 'VAN-CARGO': 2,\n",
              " 'VENZA': 103,\n",
              " 'XTRACAB': 1,\n",
              " 'YARIS': 254}"
            ]
          },
          "metadata": {
            "tags": []
          },
          "execution_count": 37
        }
      ]
    },
    {
      "cell_type": "code",
      "metadata": {
        "id": "KnLfXHuKYCzE"
      },
      "source": [
        "data = dict()\n",
        "import joblib"
      ],
      "execution_count": null,
      "outputs": []
    },
    {
      "cell_type": "code",
      "metadata": {
        "colab": {
          "background_save": true,
          "base_uri": "https://localhost:8080/"
        },
        "id": "M6JtARP-LPz5",
        "outputId": "ae2432b2-1753-48c6-c0b1-3036a0ca9a2f"
      },
      "source": [
        "for model, number in models.items():\n",
        "  print(f\"{model}...START.\")\n",
        "  if model in data.keys():\n",
        "    print(f\"{model}...DONE.\")\n",
        "    continue\n",
        "  link = f'https://www.auctionexport.com/en/Inventory/Search_Results?OrderBy=None&Offset=0&PerPage={number}&Keywords=&IsManual=True&vehicleType=2&MakeModel%5B0%5D.autoMake=TOYOTA&MakeModel%5B0%5D.autoModel={model}&MakeModel%5B0%5D.autoTrim=&price_from=0&price_to=0&autoYear_from=1901&autoYear_to=2023&mileage_from=0&mileage_to=0&withPicsOnly=false&ExcludeNonDrivable=false&SearchName=&NotifyDays=7&NotifyFrequency=24'\n",
        "  content = requests.get(link).text\n",
        "\n",
        "  links = []\n",
        "\n",
        "  soup = BeautifulSoup(content, 'lxml')\n",
        "  for item in soup.find_all('div', {\"class\":\"sv-title-container\"}):\n",
        "    d = item.find('a')['href']\n",
        "    stew = BeautifulSoup(requests.get(f\"https://www.auctionexport.com/en/Inventory/Pictures/{d.split('/')[-1].split('?')[0]}\").text,'lxml')\n",
        "    car_picture = []\n",
        "    for img in stew.find_all('img', {\"class\":\"c_Window_Shadow\"}):\n",
        "      car_picture.append(f\"https://www.auctionexport.com{img['data-original']}\")\n",
        "      if len(car_picture)==2:\n",
        "        break\n",
        "    links.extend(car_picture)\n",
        "    if len(links)>2000:\n",
        "      break\n",
        "  data[model] = links\n",
        "  print(f\"{model}...DONE.\")\n",
        "  joblib.dump(data,'/content/drive/MyDrive/Colab_Data/curacel/data.jl')"
      ],
      "execution_count": null,
      "outputs": [
        {
          "output_type": "stream",
          "text": [
            "4RUNNER...START.\n",
            "4RUNNER...DONE.\n",
            "86...START.\n",
            "86...DONE.\n",
            "AVALON...START.\n",
            "AVALON...DONE.\n",
            "CAMRY...START.\n",
            "CAMRY...DONE.\n",
            "CAMRY-SOLARA...START.\n",
            "CAMRY-SOLARA...DONE.\n",
            "CELICA-GT...START.\n",
            "CELICA-GT...DONE.\n",
            "CELICA-ST...START.\n",
            "CELICA-ST...DONE.\n",
            "C-HR...START.\n",
            "C-HR...DONE.\n",
            "COROLLA...START.\n",
            "COROLLA...DONE.\n",
            "ECHO...START.\n",
            "ECHO...DONE.\n",
            "EXTRA-LONG...START.\n",
            "EXTRA-LONG...DONE.\n",
            "FJ-CRUISER...START.\n",
            "FJ-CRUISER...DONE.\n",
            "HIGHLANDER...START.\n",
            "HIGHLANDER...DONE.\n",
            "LAND-CRUISER...START.\n",
            "LAND-CRUISER...DONE.\n",
            "MATRIX...START.\n",
            "MATRIX...DONE.\n",
            "MIRAI...START.\n",
            "MIRAI...DONE.\n",
            "MR2...START.\n",
            "MR2...DONE.\n",
            "PICKUP...START.\n",
            "PICKUP...DONE.\n",
            "PREVIA...START.\n",
            "PREVIA...DONE.\n",
            "PRIUS...START.\n",
            "PRIUS...DONE.\n",
            "RAV4...START.\n",
            "RAV4...DONE.\n",
            "SCION...START.\n",
            "SCION...DONE.\n",
            "SEQUOIA...START.\n",
            "SEQUOIA...DONE.\n",
            "SHORT-BED...START.\n",
            "SHORT-BED...DONE.\n",
            "SIENNA...START.\n",
            "SIENNA...DONE.\n",
            "SUPRA...START.\n",
            "SUPRA...DONE.\n",
            "T100...START.\n",
            "T100...DONE.\n",
            "TACOMA...START.\n",
            "TACOMA...DONE.\n",
            "TERCEL...START.\n",
            "TERCEL...DONE.\n",
            "TUNDRA...START.\n",
            "TUNDRA...DONE.\n",
            "VAN-CARGO...START.\n",
            "VAN-CARGO...DONE.\n",
            "VENZA...START.\n",
            "VENZA...DONE.\n",
            "XTRACAB...START.\n",
            "XTRACAB...DONE.\n",
            "YARIS...START.\n",
            "YARIS...DONE.\n"
          ],
          "name": "stdout"
        }
      ]
    },
    {
      "cell_type": "code",
      "metadata": {
        "id": "zFVbHHqxQYsV"
      },
      "source": [
        "dd = requests.get('https://www.auctionexport.com/en/Inventory/Pictures/2006-toyota-corolla-ce-sedan-4-doors-174662384').text\n",
        "\n",
        "for i in BeautifulSoup(dd).find_all('img', {\"class\":\"c_Window_Shadow\"}):\n",
        "  print(i['data-original'])"
      ],
      "execution_count": null,
      "outputs": []
    },
    {
      "cell_type": "code",
      "metadata": {
        "id": "SwbHllFEYvlQ"
      },
      "source": [
        "d= 'https://www.auctionexport.com/en/IMG/GetImage?picID=220873147&width=640&height=480&showtag=1'"
      ],
      "execution_count": null,
      "outputs": []
    },
    {
      "cell_type": "code",
      "metadata": {
        "id": "djtpve4JneFk"
      },
      "source": [
        "data = joblib.load('/content/drive/MyDrive/Colab_Data/curacel/data.jl')"
      ],
      "execution_count": 14,
      "outputs": []
    },
    {
      "cell_type": "code",
      "metadata": {
        "colab": {
          "base_uri": "https://localhost:8080/"
        },
        "id": "5Img2t0xY1fw",
        "outputId": "c7490a94-0563-41e2-b087-4e25dac38513"
      },
      "source": [
        "data.keys()"
      ],
      "execution_count": 15,
      "outputs": [
        {
          "output_type": "execute_result",
          "data": {
            "text/plain": [
              "dict_keys(['4RUNNER', '86', 'AVALON', 'CAMRY', 'CAMRY-SOLARA', 'CELICA-GT', 'CELICA-ST', 'C-HR', 'COROLLA', 'ECHO', 'EXTRA-LONG', 'FJ-CRUISER', 'HIGHLANDER', 'LAND-CRUISER', 'MATRIX', 'MIRAI', 'MR2', 'PICKUP', 'PREVIA', 'PRIUS', 'RAV4', 'SCION', 'SEQUOIA', 'SHORT-BED', 'SIENNA', 'SUPRA', 'T100', 'TACOMA', 'TERCEL', 'TUNDRA', 'VAN-CARGO', 'VENZA', 'XTRACAB', 'YARIS'])"
            ]
          },
          "metadata": {
            "tags": []
          },
          "execution_count": 15
        }
      ]
    },
    {
      "cell_type": "code",
      "metadata": {
        "id": "9zyD-WFvLSuh"
      },
      "source": [
        "def get_image(url_, number, directory, folder='/content/drive/MyDrive/Colab_Data/curacel', sub_folder='test'):\n",
        "  p = f\"{folder}/{sub_folder}/image_{directory}_{number}.png\"\n",
        "  print(p)\n",
        "  if not os.path.exists(p):\n",
        "    response = requests.get(url_);\n",
        "    file = open(p, \"wb\");\n",
        "    file.write(response.content);\n",
        "    file.close();"
      ],
      "execution_count": 16,
      "outputs": []
    },
    {
      "cell_type": "code",
      "metadata": {
        "colab": {
          "background_save": true
        },
        "id": "4Dao-sKPLWTP"
      },
      "source": [
        "start = 0\n",
        "for model, images in data.items():\n",
        "  print(f\"{model}...START.\")\n",
        "  br = (0.8*len(images))+1\n",
        "  start += 1\n",
        "  #if not os.path.exists(f'/content/drive/MyDrive/Colab_Data/curacel/train/{start}'):\n",
        "  for ind, image in enumerate(images):\n",
        "    if ind < br:\n",
        "      try:\n",
        "        get_image(image, ind, start, sub_folder=f'train/{start}');\n",
        "      except FileNotFoundError:\n",
        "        os.mkdir(f'/content/drive/MyDrive/Colab_Data/curacel/train/{start}')\n",
        "        get_image(image, ind, start, sub_folder=f'train/{start}');\n",
        "    else:\n",
        "      try:\n",
        "        get_image(image ,ind, start, sub_folder=f'test/{start}');\n",
        "      except FileNotFoundError:\n",
        "        os.mkdir(f'/content/drive/MyDrive/Colab_Data/curacel/test/{start}')\n",
        "        get_image(image ,ind, start, sub_folder=f'test/{start}');\n",
        "      \n",
        "  print(f\"{model} in Folder {start}...DONE.\")"
      ],
      "execution_count": null,
      "outputs": []
    },
    {
      "cell_type": "code",
      "metadata": {
        "id": "H2HHRb6KCf3q"
      },
      "source": [
        "st = [i for i in range(1, 35) if str(i) not in os.listdir('train/')[1:] if 34]"
      ],
      "execution_count": 11,
      "outputs": []
    },
    {
      "cell_type": "code",
      "metadata": {
        "colab": {
          "base_uri": "https://localhost:8080/"
        },
        "id": "LKQFRpb6Dckt",
        "outputId": "b59b2f8d-9231-4e11-d242-ec9c6d058ec7"
      },
      "source": [
        "start = 0\n",
        "for model, images in data.items():\n",
        "  start += 1\n",
        "  if start in st:\n",
        "    print(f\"{model}...START.\")\n",
        "    br = (0.8*len(images))+1\n",
        "    \n",
        "    for ind, image in enumerate(images):\n",
        "        try:\n",
        "          get_image(image, ind, start, sub_folder=f'train/{start}');\n",
        "        except FileNotFoundError:\n",
        "          os.mkdir(f'/content/drive/MyDrive/Colab_Data/curacel/train/{start}')\n",
        "          get_image(image, ind, start, sub_folder=f'train/{start}');\n",
        "        \n",
        "    print(f\"{model} in Folder {start}...DONE.\")"
      ],
      "execution_count": 41,
      "outputs": [
        {
          "output_type": "stream",
          "text": [
            "CAMRY-SOLARA...START.\n",
            "/content/drive/MyDrive/Colab_Data/curacel/train/5/image_5_0.png\n",
            "/content/drive/MyDrive/Colab_Data/curacel/train/5/image_5_0.png\n",
            "/content/drive/MyDrive/Colab_Data/curacel/train/5/image_5_1.png\n",
            "/content/drive/MyDrive/Colab_Data/curacel/train/5/image_5_2.png\n",
            "/content/drive/MyDrive/Colab_Data/curacel/train/5/image_5_3.png\n",
            "/content/drive/MyDrive/Colab_Data/curacel/train/5/image_5_4.png\n",
            "/content/drive/MyDrive/Colab_Data/curacel/train/5/image_5_5.png\n",
            "CAMRY-SOLARA in Folder 5...DONE.\n",
            "CELICA-GT...START.\n",
            "/content/drive/MyDrive/Colab_Data/curacel/train/6/image_6_0.png\n",
            "/content/drive/MyDrive/Colab_Data/curacel/train/6/image_6_0.png\n",
            "/content/drive/MyDrive/Colab_Data/curacel/train/6/image_6_1.png\n",
            "/content/drive/MyDrive/Colab_Data/curacel/train/6/image_6_2.png\n",
            "/content/drive/MyDrive/Colab_Data/curacel/train/6/image_6_3.png\n",
            "/content/drive/MyDrive/Colab_Data/curacel/train/6/image_6_4.png\n",
            "/content/drive/MyDrive/Colab_Data/curacel/train/6/image_6_5.png\n",
            "/content/drive/MyDrive/Colab_Data/curacel/train/6/image_6_6.png\n",
            "/content/drive/MyDrive/Colab_Data/curacel/train/6/image_6_7.png\n",
            "/content/drive/MyDrive/Colab_Data/curacel/train/6/image_6_8.png\n",
            "/content/drive/MyDrive/Colab_Data/curacel/train/6/image_6_9.png\n",
            "/content/drive/MyDrive/Colab_Data/curacel/train/6/image_6_10.png\n",
            "/content/drive/MyDrive/Colab_Data/curacel/train/6/image_6_11.png\n",
            "/content/drive/MyDrive/Colab_Data/curacel/train/6/image_6_12.png\n",
            "/content/drive/MyDrive/Colab_Data/curacel/train/6/image_6_13.png\n",
            "/content/drive/MyDrive/Colab_Data/curacel/train/6/image_6_14.png\n",
            "/content/drive/MyDrive/Colab_Data/curacel/train/6/image_6_15.png\n",
            "/content/drive/MyDrive/Colab_Data/curacel/train/6/image_6_16.png\n",
            "/content/drive/MyDrive/Colab_Data/curacel/train/6/image_6_17.png\n",
            "/content/drive/MyDrive/Colab_Data/curacel/train/6/image_6_18.png\n",
            "/content/drive/MyDrive/Colab_Data/curacel/train/6/image_6_19.png\n",
            "/content/drive/MyDrive/Colab_Data/curacel/train/6/image_6_20.png\n",
            "/content/drive/MyDrive/Colab_Data/curacel/train/6/image_6_21.png\n",
            "/content/drive/MyDrive/Colab_Data/curacel/train/6/image_6_22.png\n",
            "/content/drive/MyDrive/Colab_Data/curacel/train/6/image_6_23.png\n",
            "/content/drive/MyDrive/Colab_Data/curacel/train/6/image_6_24.png\n",
            "/content/drive/MyDrive/Colab_Data/curacel/train/6/image_6_25.png\n",
            "/content/drive/MyDrive/Colab_Data/curacel/train/6/image_6_26.png\n",
            "/content/drive/MyDrive/Colab_Data/curacel/train/6/image_6_27.png\n",
            "/content/drive/MyDrive/Colab_Data/curacel/train/6/image_6_28.png\n",
            "/content/drive/MyDrive/Colab_Data/curacel/train/6/image_6_29.png\n",
            "/content/drive/MyDrive/Colab_Data/curacel/train/6/image_6_30.png\n",
            "/content/drive/MyDrive/Colab_Data/curacel/train/6/image_6_31.png\n",
            "/content/drive/MyDrive/Colab_Data/curacel/train/6/image_6_32.png\n",
            "/content/drive/MyDrive/Colab_Data/curacel/train/6/image_6_33.png\n",
            "/content/drive/MyDrive/Colab_Data/curacel/train/6/image_6_34.png\n",
            "/content/drive/MyDrive/Colab_Data/curacel/train/6/image_6_35.png\n",
            "/content/drive/MyDrive/Colab_Data/curacel/train/6/image_6_36.png\n",
            "/content/drive/MyDrive/Colab_Data/curacel/train/6/image_6_37.png\n",
            "/content/drive/MyDrive/Colab_Data/curacel/train/6/image_6_38.png\n",
            "/content/drive/MyDrive/Colab_Data/curacel/train/6/image_6_39.png\n",
            "/content/drive/MyDrive/Colab_Data/curacel/train/6/image_6_40.png\n",
            "/content/drive/MyDrive/Colab_Data/curacel/train/6/image_6_41.png\n",
            "/content/drive/MyDrive/Colab_Data/curacel/train/6/image_6_42.png\n",
            "/content/drive/MyDrive/Colab_Data/curacel/train/6/image_6_43.png\n",
            "/content/drive/MyDrive/Colab_Data/curacel/train/6/image_6_44.png\n",
            "/content/drive/MyDrive/Colab_Data/curacel/train/6/image_6_45.png\n",
            "/content/drive/MyDrive/Colab_Data/curacel/train/6/image_6_46.png\n",
            "/content/drive/MyDrive/Colab_Data/curacel/train/6/image_6_47.png\n",
            "/content/drive/MyDrive/Colab_Data/curacel/train/6/image_6_48.png\n",
            "/content/drive/MyDrive/Colab_Data/curacel/train/6/image_6_49.png\n",
            "/content/drive/MyDrive/Colab_Data/curacel/train/6/image_6_50.png\n",
            "/content/drive/MyDrive/Colab_Data/curacel/train/6/image_6_51.png\n",
            "/content/drive/MyDrive/Colab_Data/curacel/train/6/image_6_52.png\n",
            "/content/drive/MyDrive/Colab_Data/curacel/train/6/image_6_53.png\n",
            "/content/drive/MyDrive/Colab_Data/curacel/train/6/image_6_54.png\n",
            "/content/drive/MyDrive/Colab_Data/curacel/train/6/image_6_55.png\n",
            "/content/drive/MyDrive/Colab_Data/curacel/train/6/image_6_56.png\n",
            "/content/drive/MyDrive/Colab_Data/curacel/train/6/image_6_57.png\n",
            "/content/drive/MyDrive/Colab_Data/curacel/train/6/image_6_58.png\n",
            "/content/drive/MyDrive/Colab_Data/curacel/train/6/image_6_59.png\n",
            "/content/drive/MyDrive/Colab_Data/curacel/train/6/image_6_60.png\n",
            "/content/drive/MyDrive/Colab_Data/curacel/train/6/image_6_61.png\n",
            "/content/drive/MyDrive/Colab_Data/curacel/train/6/image_6_62.png\n",
            "/content/drive/MyDrive/Colab_Data/curacel/train/6/image_6_63.png\n",
            "/content/drive/MyDrive/Colab_Data/curacel/train/6/image_6_64.png\n",
            "/content/drive/MyDrive/Colab_Data/curacel/train/6/image_6_65.png\n",
            "/content/drive/MyDrive/Colab_Data/curacel/train/6/image_6_66.png\n",
            "/content/drive/MyDrive/Colab_Data/curacel/train/6/image_6_67.png\n",
            "CELICA-GT in Folder 6...DONE.\n",
            "CELICA-ST...START.\n",
            "/content/drive/MyDrive/Colab_Data/curacel/train/7/image_7_0.png\n",
            "/content/drive/MyDrive/Colab_Data/curacel/train/7/image_7_0.png\n",
            "/content/drive/MyDrive/Colab_Data/curacel/train/7/image_7_1.png\n",
            "CELICA-ST in Folder 7...DONE.\n",
            "EXTRA-LONG...START.\n",
            "/content/drive/MyDrive/Colab_Data/curacel/train/11/image_11_0.png\n",
            "/content/drive/MyDrive/Colab_Data/curacel/train/11/image_11_0.png\n",
            "/content/drive/MyDrive/Colab_Data/curacel/train/11/image_11_1.png\n",
            "/content/drive/MyDrive/Colab_Data/curacel/train/11/image_11_2.png\n",
            "/content/drive/MyDrive/Colab_Data/curacel/train/11/image_11_3.png\n",
            "/content/drive/MyDrive/Colab_Data/curacel/train/11/image_11_4.png\n",
            "/content/drive/MyDrive/Colab_Data/curacel/train/11/image_11_5.png\n",
            "/content/drive/MyDrive/Colab_Data/curacel/train/11/image_11_6.png\n",
            "/content/drive/MyDrive/Colab_Data/curacel/train/11/image_11_7.png\n",
            "EXTRA-LONG in Folder 11...DONE.\n",
            "FJ-CRUISER...START.\n",
            "/content/drive/MyDrive/Colab_Data/curacel/train/12/image_12_0.png\n",
            "/content/drive/MyDrive/Colab_Data/curacel/train/12/image_12_0.png\n",
            "/content/drive/MyDrive/Colab_Data/curacel/train/12/image_12_1.png\n",
            "/content/drive/MyDrive/Colab_Data/curacel/train/12/image_12_2.png\n",
            "/content/drive/MyDrive/Colab_Data/curacel/train/12/image_12_3.png\n",
            "/content/drive/MyDrive/Colab_Data/curacel/train/12/image_12_4.png\n",
            "/content/drive/MyDrive/Colab_Data/curacel/train/12/image_12_5.png\n",
            "/content/drive/MyDrive/Colab_Data/curacel/train/12/image_12_6.png\n",
            "/content/drive/MyDrive/Colab_Data/curacel/train/12/image_12_7.png\n",
            "/content/drive/MyDrive/Colab_Data/curacel/train/12/image_12_8.png\n",
            "/content/drive/MyDrive/Colab_Data/curacel/train/12/image_12_9.png\n",
            "/content/drive/MyDrive/Colab_Data/curacel/train/12/image_12_10.png\n",
            "/content/drive/MyDrive/Colab_Data/curacel/train/12/image_12_11.png\n",
            "/content/drive/MyDrive/Colab_Data/curacel/train/12/image_12_12.png\n",
            "/content/drive/MyDrive/Colab_Data/curacel/train/12/image_12_13.png\n",
            "/content/drive/MyDrive/Colab_Data/curacel/train/12/image_12_14.png\n",
            "/content/drive/MyDrive/Colab_Data/curacel/train/12/image_12_15.png\n",
            "/content/drive/MyDrive/Colab_Data/curacel/train/12/image_12_16.png\n",
            "/content/drive/MyDrive/Colab_Data/curacel/train/12/image_12_17.png\n",
            "/content/drive/MyDrive/Colab_Data/curacel/train/12/image_12_18.png\n",
            "/content/drive/MyDrive/Colab_Data/curacel/train/12/image_12_19.png\n",
            "/content/drive/MyDrive/Colab_Data/curacel/train/12/image_12_20.png\n",
            "/content/drive/MyDrive/Colab_Data/curacel/train/12/image_12_21.png\n",
            "/content/drive/MyDrive/Colab_Data/curacel/train/12/image_12_22.png\n",
            "/content/drive/MyDrive/Colab_Data/curacel/train/12/image_12_23.png\n",
            "/content/drive/MyDrive/Colab_Data/curacel/train/12/image_12_24.png\n",
            "/content/drive/MyDrive/Colab_Data/curacel/train/12/image_12_25.png\n",
            "/content/drive/MyDrive/Colab_Data/curacel/train/12/image_12_26.png\n",
            "/content/drive/MyDrive/Colab_Data/curacel/train/12/image_12_27.png\n",
            "/content/drive/MyDrive/Colab_Data/curacel/train/12/image_12_28.png\n",
            "/content/drive/MyDrive/Colab_Data/curacel/train/12/image_12_29.png\n",
            "/content/drive/MyDrive/Colab_Data/curacel/train/12/image_12_30.png\n",
            "/content/drive/MyDrive/Colab_Data/curacel/train/12/image_12_31.png\n",
            "/content/drive/MyDrive/Colab_Data/curacel/train/12/image_12_32.png\n",
            "/content/drive/MyDrive/Colab_Data/curacel/train/12/image_12_33.png\n",
            "/content/drive/MyDrive/Colab_Data/curacel/train/12/image_12_34.png\n",
            "/content/drive/MyDrive/Colab_Data/curacel/train/12/image_12_35.png\n",
            "/content/drive/MyDrive/Colab_Data/curacel/train/12/image_12_36.png\n",
            "/content/drive/MyDrive/Colab_Data/curacel/train/12/image_12_37.png\n",
            "/content/drive/MyDrive/Colab_Data/curacel/train/12/image_12_38.png\n",
            "/content/drive/MyDrive/Colab_Data/curacel/train/12/image_12_39.png\n",
            "/content/drive/MyDrive/Colab_Data/curacel/train/12/image_12_40.png\n",
            "/content/drive/MyDrive/Colab_Data/curacel/train/12/image_12_41.png\n",
            "/content/drive/MyDrive/Colab_Data/curacel/train/12/image_12_42.png\n",
            "/content/drive/MyDrive/Colab_Data/curacel/train/12/image_12_43.png\n",
            "/content/drive/MyDrive/Colab_Data/curacel/train/12/image_12_44.png\n",
            "/content/drive/MyDrive/Colab_Data/curacel/train/12/image_12_45.png\n",
            "/content/drive/MyDrive/Colab_Data/curacel/train/12/image_12_46.png\n",
            "/content/drive/MyDrive/Colab_Data/curacel/train/12/image_12_47.png\n",
            "/content/drive/MyDrive/Colab_Data/curacel/train/12/image_12_48.png\n",
            "/content/drive/MyDrive/Colab_Data/curacel/train/12/image_12_49.png\n",
            "/content/drive/MyDrive/Colab_Data/curacel/train/12/image_12_50.png\n",
            "/content/drive/MyDrive/Colab_Data/curacel/train/12/image_12_51.png\n",
            "/content/drive/MyDrive/Colab_Data/curacel/train/12/image_12_52.png\n",
            "/content/drive/MyDrive/Colab_Data/curacel/train/12/image_12_53.png\n",
            "/content/drive/MyDrive/Colab_Data/curacel/train/12/image_12_54.png\n",
            "/content/drive/MyDrive/Colab_Data/curacel/train/12/image_12_55.png\n",
            "/content/drive/MyDrive/Colab_Data/curacel/train/12/image_12_56.png\n",
            "/content/drive/MyDrive/Colab_Data/curacel/train/12/image_12_57.png\n",
            "/content/drive/MyDrive/Colab_Data/curacel/train/12/image_12_58.png\n",
            "/content/drive/MyDrive/Colab_Data/curacel/train/12/image_12_59.png\n",
            "/content/drive/MyDrive/Colab_Data/curacel/train/12/image_12_60.png\n",
            "/content/drive/MyDrive/Colab_Data/curacel/train/12/image_12_61.png\n",
            "/content/drive/MyDrive/Colab_Data/curacel/train/12/image_12_62.png\n",
            "/content/drive/MyDrive/Colab_Data/curacel/train/12/image_12_63.png\n",
            "/content/drive/MyDrive/Colab_Data/curacel/train/12/image_12_64.png\n",
            "/content/drive/MyDrive/Colab_Data/curacel/train/12/image_12_65.png\n",
            "/content/drive/MyDrive/Colab_Data/curacel/train/12/image_12_66.png\n",
            "/content/drive/MyDrive/Colab_Data/curacel/train/12/image_12_67.png\n",
            "/content/drive/MyDrive/Colab_Data/curacel/train/12/image_12_68.png\n",
            "/content/drive/MyDrive/Colab_Data/curacel/train/12/image_12_69.png\n",
            "/content/drive/MyDrive/Colab_Data/curacel/train/12/image_12_70.png\n",
            "/content/drive/MyDrive/Colab_Data/curacel/train/12/image_12_71.png\n",
            "/content/drive/MyDrive/Colab_Data/curacel/train/12/image_12_72.png\n",
            "/content/drive/MyDrive/Colab_Data/curacel/train/12/image_12_73.png\n",
            "/content/drive/MyDrive/Colab_Data/curacel/train/12/image_12_74.png\n",
            "/content/drive/MyDrive/Colab_Data/curacel/train/12/image_12_75.png\n",
            "/content/drive/MyDrive/Colab_Data/curacel/train/12/image_12_76.png\n",
            "/content/drive/MyDrive/Colab_Data/curacel/train/12/image_12_77.png\n",
            "/content/drive/MyDrive/Colab_Data/curacel/train/12/image_12_78.png\n",
            "/content/drive/MyDrive/Colab_Data/curacel/train/12/image_12_79.png\n",
            "/content/drive/MyDrive/Colab_Data/curacel/train/12/image_12_80.png\n",
            "/content/drive/MyDrive/Colab_Data/curacel/train/12/image_12_81.png\n",
            "/content/drive/MyDrive/Colab_Data/curacel/train/12/image_12_82.png\n",
            "/content/drive/MyDrive/Colab_Data/curacel/train/12/image_12_83.png\n",
            "/content/drive/MyDrive/Colab_Data/curacel/train/12/image_12_84.png\n",
            "/content/drive/MyDrive/Colab_Data/curacel/train/12/image_12_85.png\n",
            "/content/drive/MyDrive/Colab_Data/curacel/train/12/image_12_86.png\n",
            "/content/drive/MyDrive/Colab_Data/curacel/train/12/image_12_87.png\n",
            "/content/drive/MyDrive/Colab_Data/curacel/train/12/image_12_88.png\n",
            "/content/drive/MyDrive/Colab_Data/curacel/train/12/image_12_89.png\n",
            "/content/drive/MyDrive/Colab_Data/curacel/train/12/image_12_90.png\n",
            "/content/drive/MyDrive/Colab_Data/curacel/train/12/image_12_91.png\n",
            "FJ-CRUISER in Folder 12...DONE.\n",
            "LAND-CRUISER...START.\n",
            "/content/drive/MyDrive/Colab_Data/curacel/train/14/image_14_0.png\n",
            "/content/drive/MyDrive/Colab_Data/curacel/train/14/image_14_0.png\n",
            "/content/drive/MyDrive/Colab_Data/curacel/train/14/image_14_1.png\n",
            "/content/drive/MyDrive/Colab_Data/curacel/train/14/image_14_2.png\n",
            "/content/drive/MyDrive/Colab_Data/curacel/train/14/image_14_3.png\n",
            "/content/drive/MyDrive/Colab_Data/curacel/train/14/image_14_4.png\n",
            "/content/drive/MyDrive/Colab_Data/curacel/train/14/image_14_5.png\n",
            "/content/drive/MyDrive/Colab_Data/curacel/train/14/image_14_6.png\n",
            "/content/drive/MyDrive/Colab_Data/curacel/train/14/image_14_7.png\n",
            "/content/drive/MyDrive/Colab_Data/curacel/train/14/image_14_8.png\n",
            "/content/drive/MyDrive/Colab_Data/curacel/train/14/image_14_9.png\n",
            "/content/drive/MyDrive/Colab_Data/curacel/train/14/image_14_10.png\n",
            "/content/drive/MyDrive/Colab_Data/curacel/train/14/image_14_11.png\n",
            "/content/drive/MyDrive/Colab_Data/curacel/train/14/image_14_12.png\n",
            "/content/drive/MyDrive/Colab_Data/curacel/train/14/image_14_13.png\n",
            "/content/drive/MyDrive/Colab_Data/curacel/train/14/image_14_14.png\n",
            "/content/drive/MyDrive/Colab_Data/curacel/train/14/image_14_15.png\n",
            "/content/drive/MyDrive/Colab_Data/curacel/train/14/image_14_16.png\n",
            "/content/drive/MyDrive/Colab_Data/curacel/train/14/image_14_17.png\n",
            "/content/drive/MyDrive/Colab_Data/curacel/train/14/image_14_18.png\n",
            "/content/drive/MyDrive/Colab_Data/curacel/train/14/image_14_19.png\n",
            "/content/drive/MyDrive/Colab_Data/curacel/train/14/image_14_20.png\n",
            "/content/drive/MyDrive/Colab_Data/curacel/train/14/image_14_21.png\n",
            "/content/drive/MyDrive/Colab_Data/curacel/train/14/image_14_22.png\n",
            "/content/drive/MyDrive/Colab_Data/curacel/train/14/image_14_23.png\n",
            "/content/drive/MyDrive/Colab_Data/curacel/train/14/image_14_24.png\n",
            "/content/drive/MyDrive/Colab_Data/curacel/train/14/image_14_25.png\n",
            "/content/drive/MyDrive/Colab_Data/curacel/train/14/image_14_26.png\n",
            "/content/drive/MyDrive/Colab_Data/curacel/train/14/image_14_27.png\n",
            "/content/drive/MyDrive/Colab_Data/curacel/train/14/image_14_28.png\n",
            "/content/drive/MyDrive/Colab_Data/curacel/train/14/image_14_29.png\n",
            "/content/drive/MyDrive/Colab_Data/curacel/train/14/image_14_30.png\n",
            "/content/drive/MyDrive/Colab_Data/curacel/train/14/image_14_31.png\n",
            "/content/drive/MyDrive/Colab_Data/curacel/train/14/image_14_32.png\n",
            "/content/drive/MyDrive/Colab_Data/curacel/train/14/image_14_33.png\n",
            "/content/drive/MyDrive/Colab_Data/curacel/train/14/image_14_34.png\n",
            "/content/drive/MyDrive/Colab_Data/curacel/train/14/image_14_35.png\n",
            "/content/drive/MyDrive/Colab_Data/curacel/train/14/image_14_36.png\n",
            "/content/drive/MyDrive/Colab_Data/curacel/train/14/image_14_37.png\n",
            "/content/drive/MyDrive/Colab_Data/curacel/train/14/image_14_38.png\n",
            "/content/drive/MyDrive/Colab_Data/curacel/train/14/image_14_39.png\n",
            "/content/drive/MyDrive/Colab_Data/curacel/train/14/image_14_40.png\n",
            "/content/drive/MyDrive/Colab_Data/curacel/train/14/image_14_41.png\n",
            "/content/drive/MyDrive/Colab_Data/curacel/train/14/image_14_42.png\n",
            "/content/drive/MyDrive/Colab_Data/curacel/train/14/image_14_43.png\n",
            "/content/drive/MyDrive/Colab_Data/curacel/train/14/image_14_44.png\n",
            "/content/drive/MyDrive/Colab_Data/curacel/train/14/image_14_45.png\n",
            "/content/drive/MyDrive/Colab_Data/curacel/train/14/image_14_46.png\n",
            "/content/drive/MyDrive/Colab_Data/curacel/train/14/image_14_47.png\n",
            "/content/drive/MyDrive/Colab_Data/curacel/train/14/image_14_48.png\n",
            "/content/drive/MyDrive/Colab_Data/curacel/train/14/image_14_49.png\n",
            "/content/drive/MyDrive/Colab_Data/curacel/train/14/image_14_50.png\n",
            "/content/drive/MyDrive/Colab_Data/curacel/train/14/image_14_51.png\n",
            "/content/drive/MyDrive/Colab_Data/curacel/train/14/image_14_52.png\n",
            "/content/drive/MyDrive/Colab_Data/curacel/train/14/image_14_53.png\n",
            "/content/drive/MyDrive/Colab_Data/curacel/train/14/image_14_54.png\n",
            "/content/drive/MyDrive/Colab_Data/curacel/train/14/image_14_55.png\n",
            "/content/drive/MyDrive/Colab_Data/curacel/train/14/image_14_56.png\n",
            "/content/drive/MyDrive/Colab_Data/curacel/train/14/image_14_57.png\n",
            "LAND-CRUISER in Folder 14...DONE.\n",
            "SHORT-BED...START.\n",
            "/content/drive/MyDrive/Colab_Data/curacel/train/24/image_24_0.png\n",
            "/content/drive/MyDrive/Colab_Data/curacel/train/24/image_24_0.png\n",
            "/content/drive/MyDrive/Colab_Data/curacel/train/24/image_24_1.png\n",
            "/content/drive/MyDrive/Colab_Data/curacel/train/24/image_24_2.png\n",
            "/content/drive/MyDrive/Colab_Data/curacel/train/24/image_24_3.png\n",
            "/content/drive/MyDrive/Colab_Data/curacel/train/24/image_24_4.png\n",
            "/content/drive/MyDrive/Colab_Data/curacel/train/24/image_24_5.png\n",
            "/content/drive/MyDrive/Colab_Data/curacel/train/24/image_24_6.png\n",
            "/content/drive/MyDrive/Colab_Data/curacel/train/24/image_24_7.png\n",
            "/content/drive/MyDrive/Colab_Data/curacel/train/24/image_24_8.png\n",
            "/content/drive/MyDrive/Colab_Data/curacel/train/24/image_24_9.png\n",
            "SHORT-BED in Folder 24...DONE.\n",
            "VAN-CARGO...START.\n",
            "/content/drive/MyDrive/Colab_Data/curacel/train/31/image_31_0.png\n",
            "/content/drive/MyDrive/Colab_Data/curacel/train/31/image_31_0.png\n",
            "/content/drive/MyDrive/Colab_Data/curacel/train/31/image_31_1.png\n",
            "/content/drive/MyDrive/Colab_Data/curacel/train/31/image_31_2.png\n",
            "/content/drive/MyDrive/Colab_Data/curacel/train/31/image_31_3.png\n",
            "VAN-CARGO in Folder 31...DONE.\n"
          ],
          "name": "stdout"
        }
      ]
    },
    {
      "cell_type": "code",
      "metadata": {
        "colab": {
          "base_uri": "https://localhost:8080/"
        },
        "id": "nBG2JSydFjPy",
        "outputId": "408104d4-ccbf-4822-f332-ebe687eb6167"
      },
      "source": [
        "data['CELICA-GT']"
      ],
      "execution_count": 21,
      "outputs": [
        {
          "output_type": "execute_result",
          "data": {
            "text/plain": [
              "[]"
            ]
          },
          "metadata": {
            "tags": []
          },
          "execution_count": 21
        }
      ]
    },
    {
      "cell_type": "code",
      "metadata": {
        "colab": {
          "base_uri": "https://localhost:8080/"
        },
        "id": "tMn65ylBFkUV",
        "outputId": "78956bc9-69cc-43f1-95a9-422a273fe3ce"
      },
      "source": [
        "start = 0\n",
        "for model, number in models.items():\n",
        "  start += 1\n",
        "  if start in st:\n",
        "    m = model.replace('-','+')\n",
        "    print(f\"{model}...START.\")\n",
        "    link = f'https://www.auctionexport.com/en/Inventory/Search_Results?OrderBy=None&Offset=0&PerPage={number}&Keywords=&IsManual=True&vehicleType=2&MakeModel%5B0%5D.autoMake=TOYOTA&MakeModel%5B0%5D.autoModel={m}&MakeModel%5B0%5D.autoTrim=&price_from=0&price_to=0&autoYear_from=1901&autoYear_to=2023&mileage_from=0&mileage_to=0&withPicsOnly=false&ExcludeNonDrivable=false&SearchName=&NotifyDays=7&NotifyFrequency=24'\n",
        "    content = requests.get(link).text\n",
        "\n",
        "    links = []\n",
        "\n",
        "    soup = BeautifulSoup(content, 'lxml')\n",
        "    for item in soup.find_all('div', {\"class\":\"sv-title-container\"}):\n",
        "      d = item.find('a')['href']\n",
        "      stew = BeautifulSoup(requests.get(f\"https://www.auctionexport.com/en/Inventory/Pictures/{d.split('/')[-1].split('?')[0]}\").text,'lxml')\n",
        "      car_picture = []\n",
        "      for img in stew.find_all('img', {\"class\":\"c_Window_Shadow\"}):\n",
        "        car_picture.append(f\"https://www.auctionexport.com{img['data-original']}\")\n",
        "        if len(car_picture)==2:\n",
        "          break\n",
        "      links.extend(car_picture)\n",
        "      if len(links)>2000:\n",
        "        break\n",
        "    data[model] = links\n",
        "    print(f\"{model}...DONE.\")\n",
        "    joblib.dump(data,'/content/drive/MyDrive/Colab_Data/curacel/data.jl')"
      ],
      "execution_count": 40,
      "outputs": [
        {
          "output_type": "stream",
          "text": [
            "CAMRY-SOLARA...START.\n",
            "CAMRY-SOLARA...DONE.\n",
            "CELICA-GT...START.\n",
            "CELICA-GT...DONE.\n",
            "CELICA-ST...START.\n",
            "CELICA-ST...DONE.\n",
            "EXTRA-LONG...START.\n",
            "EXTRA-LONG...DONE.\n",
            "FJ-CRUISER...START.\n",
            "FJ-CRUISER...DONE.\n",
            "LAND-CRUISER...START.\n",
            "LAND-CRUISER...DONE.\n",
            "SHORT-BED...START.\n",
            "SHORT-BED...DONE.\n",
            "VAN-CARGO...START.\n",
            "VAN-CARGO...DONE.\n"
          ],
          "name": "stdout"
        }
      ]
    },
    {
      "cell_type": "code",
      "metadata": {
        "id": "9WZh7QmBHITF"
      },
      "source": [
        "for item in soup.find_all('div', {\"class\":\"sv-title-container\"}):\n",
        "  print(item.find('a')['href'])"
      ],
      "execution_count": 30,
      "outputs": []
    },
    {
      "cell_type": "code",
      "metadata": {
        "id": "lhaagzFHHJSR"
      },
      "source": [
        ""
      ],
      "execution_count": null,
      "outputs": []
    }
  ]
}